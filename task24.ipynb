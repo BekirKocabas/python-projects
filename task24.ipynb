{
 "cells": [
  {
   "cell_type": "code",
   "execution_count": null,
   "metadata": {},
   "outputs": [],
   "source": [
    "#Task-24: Schreiben Sie eine Funktion namens float_range(start,stop,step), die eine Liste von Bruchzahlen (reelle Zahlen) erzeugt.\n",
    "def float_range(start, stop, step):\n",
    "    '''Gibt eine Liste basierend auf den angegebenen Startwert, Stopwert und Stepwert zurück.'''\n",
    "    list_f = []     \n",
    "    while start != stop:        \n",
    "        list_f.append(float(start))\n",
    "        start += step   \n",
    "    return list_f\n",
    "print(float_range(10, 1, -0.5))\n",
    "print(float_range(0, 10, .5))"
   ]
  }
 ],
 "metadata": {
  "language_info": {
   "name": "python"
  },
  "orig_nbformat": 4
 },
 "nbformat": 4,
 "nbformat_minor": 2
}
