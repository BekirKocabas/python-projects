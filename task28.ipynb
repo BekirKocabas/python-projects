{
 "cells": [
  {
   "cell_type": "code",
   "execution_count": 3,
   "metadata": {},
   "outputs": [
    {
     "name": "stdout",
     "output_type": "stream",
     "text": [
      "s({A6NzS\n",
      "multiple repeat at position 10\n",
      "validation completed\n"
     ]
    }
   ],
   "source": [
    "#Task 28: Passwortgenerator Erfüllen Sie die Anforderungen im unten stehenden Programm...\n",
    "import random\n",
    "import re\n",
    "import string\n",
    "\n",
    "def pswrd():\n",
    "    #random.seed(1) #Zufällig generierten Wert korrigieren\n",
    "    psw = \"\"\n",
    "    for i in range(8):\n",
    "        psw += chr(random.randint(33,126))\n",
    "    return psw\n",
    "pswd = pswrd()\n",
    "def check_pass(pswd):\n",
    "    \"\"\"Diese Funktion ist die obige Funktion. Ob das im Code erzeugte Passwort mindestens 8 Zeichen lang ist oder nicht,\n",
    "     Ob es Kleinbuchstaben \"a-z\" enthält oder nicht,\n",
    "     Ob es Großbuchstaben zwischen \"A-Z\" enthält oder nicht,\n",
    "     Ob es Zahlen zwischen '0-9' enthält,\n",
    "     Testen Sie, ob es Sonderzeichen wie '!^~.,?-_)(/&+' enthält \"\"\"\n",
    "    if len(pswd)<8:\n",
    "        raise Exception(\"Das Passwort darf nicht weniger als 8 Zeichen lang sein\")\n",
    "    elif not re.search('!\"#$%&\\'()*+,-./:;<=>?@[\\]^_`{|}~', pswd):    \n",
    "    #elif len(set(string.punctuation) & set(pswd)) < 1:\n",
    "        raise Exception(\"Das Passwort muss mindestens 1 Sonderzeichen enthalten\")\n",
    "    elif not re.search('[a-z]', pswd):\n",
    "        raise Exception(\"Das Passwort muss mindestens 1 Kleinbuchstaben enthalten\")\n",
    "    elif not re.search('[A-Z]', pswd):\n",
    "        raise Exception(\"Das Passwort muss mindestens 1 Großbuchstaben enthalten\")\n",
    "    elif not re.search('[0-9]', pswd):\n",
    "        raise Exception(\"Das Passwort muss mindestens 1 Ziffer enthalten\")\n",
    "    \n",
    "    elif re.search(\" \", pswd):\n",
    "        raise Exception(\"Das Passwort darf keine Leerzeichen enthalten\")\n",
    "#Hauptprogramm\n",
    "#generiertes Passwort\n",
    "print(pswd)\n",
    "try:\n",
    "    check_pass(pswd)\n",
    "except Exception as ex:\n",
    "    print(ex)\n",
    "else:\n",
    "    print(\"valid password\") # Wenn es im Try-Blog keine Fehler gibt, geht es hierher und druckt gültig.\n",
    "finally:\n",
    "    print(\"validation completed\") # gibt diese Zeile aus, unabhängig davon, ob try oder exception eingegeben wird"
   ]
  }
 ],
 "metadata": {
  "kernelspec": {
   "display_name": "Python 3",
   "language": "python",
   "name": "python3"
  },
  "language_info": {
   "codemirror_mode": {
    "name": "ipython",
    "version": 3
   },
   "file_extension": ".py",
   "mimetype": "text/x-python",
   "name": "python",
   "nbconvert_exporter": "python",
   "pygments_lexer": "ipython3",
   "version": "3.10.10"
  },
  "orig_nbformat": 4
 },
 "nbformat": 4,
 "nbformat_minor": 2
}
