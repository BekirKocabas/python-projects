{
 "cells": [
  {
   "cell_type": "code",
   "execution_count": 4,
   "metadata": {},
   "outputs": [
    {
     "ename": "IndentationError",
     "evalue": "expected an indented block after 'if' statement on line 15 (569814628.py, line 16)",
     "output_type": "error",
     "traceback": [
      "\u001b[1;36m  Cell \u001b[1;32mIn [4], line 16\u001b[1;36m\u001b[0m\n\u001b[1;33m    print(para//i, \"adet\", i, \"TL\")\u001b[0m\n\u001b[1;37m    ^\u001b[0m\n\u001b[1;31mIndentationError\u001b[0m\u001b[1;31m:\u001b[0m expected an indented block after 'if' statement on line 15\n"
     ]
    }
   ],
   "source": [
    "# Aufgabe-26: Wandeln Sie den über die Tastatur eingegebenen Geldbetrag in den aktuell verwendeten Geldbetrag um.\n",
    "#Laut (200,100,50,20,10,5,1)\n",
    "# Schreiben Sie eine Funktion namens teller(money), die einem Kassierer hilft, mit den wenigsten Stückelungen zu bezahlen.\n",
    "# Wenn zum Beispiel 2456 über die Tastatur eingegeben wird, sollte die Ausgabe des Programms wie folgt aussehen;\n",
    "# 12 Stück 200 TL\n",
    "# 1 Stück 50 TL\n",
    "# 1 Stück 5 TL\n",
    "# 1 Stück für 1 TL\n",
    "\n",
    "def veznedar(para):\n",
    "   #'''durch Dividieren des eingegebenen Arguments durch die Banknoten in der Clipping-Liste.\n",
    "    #Funktion, die den Divisor ausgibt und den Rest der Währungsvariable zur erneuten Verarbeitung zuweist'''\n",
    "    kupur = [200, 100, 50, 20, 10, 5, 1]\n",
    "    for i in kupur:\n",
    "        if para // i:\n",
    "            print(para//i, \"adet\", i, \"TL\")\n",
    "            para = para % i\n",
    "\n",
    "veznedar(235)"
   ]
  }
 ],
 "metadata": {
  "kernelspec": {
   "display_name": "Python 3",
   "language": "python",
   "name": "python3"
  },
  "language_info": {
   "codemirror_mode": {
    "name": "ipython",
    "version": 3
   },
   "file_extension": ".py",
   "mimetype": "text/x-python",
   "name": "python",
   "nbconvert_exporter": "python",
   "pygments_lexer": "ipython3",
   "version": "3.10.10"
  },
  "orig_nbformat": 4
 },
 "nbformat": 4,
 "nbformat_minor": 2
}
