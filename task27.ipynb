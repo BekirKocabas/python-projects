{
 "cells": [
  {
   "cell_type": "code",
   "execution_count": null,
   "metadata": {},
   "outputs": [],
   "source": [
    "#Task 27:  Das Programm, das herausfindet, wie viele Tage, Stunden, Minuten und Sekunden bis zu meinem Geburtstag verbleiben.\n",
    "\n",
    "from datetime import date, datetime\n",
    "now = datetime.now()\n",
    "my_birthday = datetime(now.year, 10, 18)\n",
    "\n",
    "if my_birthday < now:\n",
    "    my_birthday = my_birthday.replace(year = now.year+1)\n",
    "    \n",
    "remaining_time = my_birthday - now\n",
    "\n",
    "print(\"current time: \", now)\n",
    "print(\"my birthday: \", my_birthday)\n",
    "print(\"Mein Geburtstag ist in \", remaining_time.days, \" Tag, \", remaining_time.seconds//3600, \" Std, \", (remaining_time.seconds//60)%60, \" min, \", remaining_time.seconds%60, \"Sek.\" )\n",
    "\n",
    "#lass uns testen\n",
    "# current time:  2022-11-16 16:02:19.032686\n",
    "# my birthday:  2022-11-18 00:00:00\n",
    "# Mein Geburtstag ist in 1 Tag, 7 Std., 57 Min., 40 Sek.\n",
    "\n",
    "# current time:  2022-11-16 16:03:10.307286\n",
    "# my birthday:  2023-10-18 00:00:00\n",
    "# Mein Geburtstag ist in 335 Tag, 7 Std., 56 Min., 49 Sek."
   ]
  }
 ],
 "metadata": {
  "language_info": {
   "name": "python"
  },
  "orig_nbformat": 4
 },
 "nbformat": 4,
 "nbformat_minor": 2
}
